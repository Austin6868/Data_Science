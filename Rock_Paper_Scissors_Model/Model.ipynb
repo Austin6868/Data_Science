{
 "cells": [
  {
   "cell_type": "markdown",
   "source": [
    "# This is the tutorial model from [this video](https://www.youtube.com/watch?v=VwVg9jCtqaU&t=58s)"
   ],
   "metadata": {
    "collapsed": false
   }
  },
  {
   "cell_type": "code",
   "execution_count": 2,
   "metadata": {
    "collapsed": true
   },
   "outputs": [
    {
     "name": "stdout",
     "output_type": "stream",
     "text": [
      "--2023-02-21 22:54:25--  https://storage.googleapis.com/laurencemoroney-blog.appspot.com/rps.zip\r\n",
      "Resolving storage.googleapis.com (storage.googleapis.com)... 172.217.165.144, 142.250.65.208, 142.251.40.144, ...\r\n",
      "Connecting to storage.googleapis.com (storage.googleapis.com)|172.217.165.144|:443... connected.\r\n",
      "HTTP request sent, awaiting response... 404 Not Found\r\n",
      "2023-02-21 22:54:27 ERROR 404: Not Found.\r\n",
      "\r\n",
      "--2023-02-21 22:54:27--  https://storage.googleapis.com/laurencemoroney-blog.appspot.com/rps-test-set.zip\r\n",
      "Resolving storage.googleapis.com (storage.googleapis.com)... 142.250.65.176, 142.250.65.208, 142.251.40.144, ...\r\n",
      "Connecting to storage.googleapis.com (storage.googleapis.com)|142.250.65.176|:443... connected.\r\n",
      "HTTP request sent, awaiting response... 404 Not Found\r\n",
      "2023-02-21 22:54:28 ERROR 404: Not Found.\r\n",
      "\r\n",
      "--2023-02-21 22:54:28--  https://storage.googleapis.com/laurencemoroney-blog.appspot.com/rps.zip\r\n",
      "Resolving storage.googleapis.com (storage.googleapis.com)... 142.251.41.16, 142.250.65.208, 142.250.65.240, ...\r\n",
      "Connecting to storage.googleapis.com (storage.googleapis.com)|142.251.41.16|:443... connected.\r\n",
      "HTTP request sent, awaiting response... 404 Not Found\r\n",
      "2023-02-21 22:54:29 ERROR 404: Not Found.\r\n",
      "\r\n",
      "--2023-02-21 22:54:29--  https://storage.googleapis.com/laurencemoroney-blog.appspot.com/rps-test-set.zip\r\n",
      "Resolving storage.googleapis.com (storage.googleapis.com)... 142.251.41.16, 142.250.65.208, 142.250.65.240, ...\r\n",
      "Connecting to storage.googleapis.com (storage.googleapis.com)|142.251.41.16|:443... connected.\r\n",
      "HTTP request sent, awaiting response... 404 Not Found\r\n",
      "2023-02-21 22:54:30 ERROR 404: Not Found.\r\n",
      "\r\n"
     ]
    }
   ],
   "source": [
    "!wget --no-check-certificate \\\n",
    "    https://storage.googleapis.com/laurencemoroney-blog.appspot.com/rps.zip \\\n",
    "    -O /tmp/rps.zip\n",
    "\n",
    "!wget --no-check-certificate \\\n",
    "    https://storage.googleapis.com/laurencemoroney-blog.appspot.com/rps-test-set.zip \\\n",
    "    -O /tmp/rps-test-set.zip"
   ]
  },
  {
   "cell_type": "code",
   "execution_count": null,
   "outputs": [],
   "source": [],
   "metadata": {
    "collapsed": false
   }
  }
 ],
 "metadata": {
  "kernelspec": {
   "display_name": "Python 3",
   "language": "python",
   "name": "python3"
  },
  "language_info": {
   "codemirror_mode": {
    "name": "ipython",
    "version": 2
   },
   "file_extension": ".py",
   "mimetype": "text/x-python",
   "name": "python",
   "nbconvert_exporter": "python",
   "pygments_lexer": "ipython2",
   "version": "2.7.6"
  }
 },
 "nbformat": 4,
 "nbformat_minor": 0
}
