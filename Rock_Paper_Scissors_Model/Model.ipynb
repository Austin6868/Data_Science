{
 "cells": [
  {
   "cell_type": "markdown",
   "metadata": {},
   "source": [
    "# This is the tutorial model from [this video](https://www.youtube.com/watch?v=VwVg9jCtqaU&t=58s)"
   ]
  },
  {
   "cell_type": "code",
   "execution_count": 2,
   "metadata": {
    "collapsed": true,
    "jupyter": {
     "outputs_hidden": true
    }
   },
   "outputs": [
    {
     "name": "stdout",
     "output_type": "stream",
     "text": [
      "--2023-02-21 22:54:25--  https://storage.googleapis.com/laurencemoroney-blog.appspot.com/rps.zip\n",
      "Resolving storage.googleapis.com (storage.googleapis.com)... 172.217.165.144, 142.250.65.208, 142.251.40.144, ...\n",
      "Connecting to storage.googleapis.com (storage.googleapis.com)|172.217.165.144|:443... connected.\n",
      "HTTP request sent, awaiting response... 404 Not Found\n",
      "2023-02-21 22:54:27 ERROR 404: Not Found.\n",
      "\n",
      "--2023-02-21 22:54:27--  https://storage.googleapis.com/laurencemoroney-blog.appspot.com/rps-test-set.zip\n",
      "Resolving storage.googleapis.com (storage.googleapis.com)... 142.250.65.176, 142.250.65.208, 142.251.40.144, ...\n",
      "Connecting to storage.googleapis.com (storage.googleapis.com)|142.250.65.176|:443... connected.\n",
      "HTTP request sent, awaiting response... 404 Not Found\n",
      "2023-02-21 22:54:28 ERROR 404: Not Found.\n",
      "\n",
      "--2023-02-21 22:54:28--  https://storage.googleapis.com/laurencemoroney-blog.appspot.com/rps.zip\n",
      "Resolving storage.googleapis.com (storage.googleapis.com)... 142.251.41.16, 142.250.65.208, 142.250.65.240, ...\n",
      "Connecting to storage.googleapis.com (storage.googleapis.com)|142.251.41.16|:443... connected.\n",
      "HTTP request sent, awaiting response... 404 Not Found\n",
      "2023-02-21 22:54:29 ERROR 404: Not Found.\n",
      "\n",
      "--2023-02-21 22:54:29--  https://storage.googleapis.com/laurencemoroney-blog.appspot.com/rps-test-set.zip\n",
      "Resolving storage.googleapis.com (storage.googleapis.com)... 142.251.41.16, 142.250.65.208, 142.250.65.240, ...\n",
      "Connecting to storage.googleapis.com (storage.googleapis.com)|142.251.41.16|:443... connected.\n",
      "HTTP request sent, awaiting response... 404 Not Found\n",
      "2023-02-21 22:54:30 ERROR 404: Not Found.\n",
      "\n"
     ]
    }
   ],
   "source": [
    "!wget --no-check-certificate \\\n",
    "    https://storage.googleapis.com/laurencemoroney-blog.appspot.com/rps.zip \\\n",
    "    -O /tmp/rps.zip\n",
    "\n",
    "!wget --no-check-certificate \\\n",
    "    https://storage.googleapis.com/laurencemoroney-blog.appspot.com/rps-test-set.zip \\\n",
    "    -O /tmp/rps-test-set.zip"
   ]
  },
  {
   "cell_type": "code",
   "execution_count": null,
   "metadata": {
    "collapsed": false,
    "jupyter": {
     "outputs_hidden": false
    }
   },
   "outputs": [],
   "source": []
  }
 ],
 "metadata": {
  "kernelspec": {
   "display_name": "Python 3 (ipykernel)",
   "language": "python",
   "name": "python3"
  },
  "language_info": {
   "codemirror_mode": {
    "name": "ipython",
    "version": 3
   },
   "file_extension": ".py",
   "mimetype": "text/x-python",
   "name": "python",
   "nbconvert_exporter": "python",
   "pygments_lexer": "ipython3",
   "version": "3.10.9"
  }
 },
 "nbformat": 4,
 "nbformat_minor": 4
}
